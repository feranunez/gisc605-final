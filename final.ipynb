{
  "nbformat": 4,
  "nbformat_minor": 0,
  "metadata": {
    "colab": {
      "provenance": []
    },
    "kernelspec": {
      "name": "python3",
      "display_name": "Python 3"
    },
    "language_info": {
      "name": "python"
    }
  },
  "cells": [
    {
      "cell_type": "code",
      "execution_count": 1,
      "metadata": {
        "colab": {
          "base_uri": "https://localhost:8080/"
        },
        "id": "6q9UsEBuUct_",
        "outputId": "45bff1f0-dc12-484d-c8f6-58b4385a2fc0"
      },
      "outputs": [
        {
          "output_type": "stream",
          "name": "stdout",
          "text": [
            "Howdy Planet!\n"
          ]
        }
      ],
      "source": [
        "#Fernando Nunez\n",
        "# Question 5 of Pakas final exam\n",
        "\n",
        "def howdy_planet ():\n",
        "  print (\"Howdy Planet!\")\n",
        "\n",
        "howdy_planet()"
      ]
    },
    {
      "cell_type": "code",
      "source": [
        "# Question 5 of Pakas final exam\n",
        "\n",
        "directions = [\"North\", \"South\", \"East\", \"West\"]\n",
        "\n",
        "for aspect in directions:\n",
        "  print(aspect)"
      ],
      "metadata": {
        "colab": {
          "base_uri": "https://localhost:8080/"
        },
        "id": "9uRA0b7TUes4",
        "outputId": "54e9784a-bcfc-43a7-ddb5-008b910a00c9"
      },
      "execution_count": 4,
      "outputs": [
        {
          "output_type": "stream",
          "name": "stdout",
          "text": [
            "North\n",
            "South\n",
            "East\n",
            "West\n"
          ]
        }
      ]
    },
    {
      "cell_type": "code",
      "source": [],
      "metadata": {
        "id": "84r0sGdkWF0y"
      },
      "execution_count": null,
      "outputs": []
    }
  ]
}